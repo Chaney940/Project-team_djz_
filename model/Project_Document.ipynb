{
 "cells": [
  {
   "cell_type": "markdown",
   "metadata": {},
   "source": [
    "# Introduction"
   ]
  },
  {
   "cell_type": "markdown",
   "metadata": {},
   "source": [
    "<font size = 3.5>This paper aims to provide an efficient and unified pricing method for the options on linear combinations of the correlated GBMs. Contrary to the common assumption that the outright multidimensional integration is computational prohibitive, this paper develop an innovative integration scheme in which the curse of dimensionality is significantly alleviated.</font>"
   ]
  },
  {
   "cell_type": "markdown",
   "metadata": {},
   "source": [
    "# Modle setup and preliminaries"
   ]
  },
  {
   "cell_type": "markdown",
   "metadata": {},
   "source": [
    "<font size = 3.5>Assume that the asset prices, $S_k$ for $1\\le k\\le N$, follow the crrelated GBMs under the risk-neutral measure: $$\\frac{dS_k(t)}{S_k(t)} = (r-q_k)dt+\\sigma_kdW_k(t),$$</font>"
   ]
  },
  {
   "cell_type": "markdown",
   "metadata": {},
   "source": [
    "<font size = 3.5>$\\sigma_k$ -- volatility<br>$q_k$ -- dividend rate<br>$r$ -- risk-free rate<br>$W_k(t)$-standard Brownian motion, $dW_k(t)dW_j(t)=\\rho_{kj} dt$</font>"
   ]
  },
  {
   "cell_type": "markdown",
   "metadata": {},
   "source": [
    " "
   ]
  },
  {
   "cell_type": "markdown",
   "metadata": {},
   "source": [
    "<font size = 3.5>The payoff of a vanilla call option with the strike price $K$ is as follows:$$(\\sum_{k=1}^N \\omega_kS_k(t_k)-K)^+.$$</font>"
   ]
  },
  {
   "cell_type": "markdown",
   "metadata": {},
   "source": [
    " "
   ]
  },
  {
   "cell_type": "markdown",
   "metadata": {},
   "source": [
    "<font size = 3.5>Under the BSM model, the log prices, $logS_k(t_k)$, follow correlated normal distributions, with the covariance matrix $\\mathbf\\Sigma$ given as:$$ $$$$\\Sigma_{kj}=\\rho_{kj}\\sigma_k\\sigma_jmin(t_k,t_j).$$</font>"
   ]
  },
  {
   "cell_type": "markdown",
   "metadata": {},
   "source": [
    " "
   ]
  },
  {
   "cell_type": "markdown",
   "metadata": {},
   "source": [
    "<font size = 3.5>Let $\\mathbf V$ satisfy $\\mathbf V \\mathbf V^T=\\mathbf \\Sigma$, the T-forward value of the observation $S_k(t_k)$can be decorrelated to:$$ $$$$S_k(t_k)e^{r(T-t_k)}\\overset{d}{=}F_kexp(-\\frac{1}{2}\\Sigma_{kk}+V_{k*}\\mathbf z),$$</font>"
   ]
  },
  {
   "cell_type": "markdown",
   "metadata": {},
   "source": [
    "<font size = 3.5>$\\mathbf z$ -- a vector of independent standard normal RVs<br>$F_k=S_k(0)e^{rT-q_kt_k}$ -- T-forward price observed at $t = 0$<br>$\\overset{d}{=}$ -- equtility in distribution law</font>"
   ]
  },
  {
   "cell_type": "markdown",
   "metadata": {},
   "source": [
    " "
   ]
  },
  {
   "cell_type": "markdown",
   "metadata": {},
   "source": [
    "<font size = 3.5>The forward value of the call option price becomes an $N$-dimensional integration:$$C=\\int_\\mathbf z(\\sum_k\\omega_kF_kexp(-\\frac{1}{2}\\Sigma_{kk}+\\mathbf V_{k*}\\mathbf z)-K)^+n(\\mathbf z)\\,d\\mathbf z$$</font>"
   ]
  },
  {
   "cell_type": "markdown",
   "metadata": {},
   "source": [
    "<font size = 3.5>$n(\\mathbf z)$ -- the multivariate standard normal PDF</font>"
   ]
  },
  {
   "cell_type": "markdown",
   "metadata": {},
   "source": []
  }
 ],
 "metadata": {
  "kernelspec": {
   "display_name": "Python 3",
   "language": "python",
   "name": "python3"
  },
  "language_info": {
   "codemirror_mode": {
    "name": "ipython",
    "version": 3
   },
   "file_extension": ".py",
   "mimetype": "text/x-python",
   "name": "python",
   "nbconvert_exporter": "python",
   "pygments_lexer": "ipython3",
   "version": "3.6.1"
  }
 },
 "nbformat": 4,
 "nbformat_minor": 2
}
