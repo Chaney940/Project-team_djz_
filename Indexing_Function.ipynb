{
 "cells": [
  {
   "cell_type": "code",
   "execution_count": 94,
   "metadata": {
    "collapsed": true
   },
   "outputs": [],
   "source": [
    "import numpy as np\n",
    "import numpy.polynomial as nppoly"
   ]
  },
  {
   "cell_type": "code",
   "execution_count": null,
   "metadata": {
    "collapsed": true
   },
   "outputs": [],
   "source": []
  },
  {
   "cell_type": "code",
   "execution_count": 95,
   "metadata": {
    "collapsed": false
   },
   "outputs": [],
   "source": [
    "def index_n(ind, bases=np.array([10])):\n",
    "    powers = np.cumprod(np.insert(bases,0,1))\n",
    "    ind_n = np.floor_divide(np.remainder(ind, powers[1:]), powers[:-1] )\n",
    "    return ind_n"
   ]
  },
  {
   "cell_type": "markdown",
   "metadata": {},
   "source": [
    "## Examples:"
   ]
  },
  {
   "cell_type": "code",
   "execution_count": 96,
   "metadata": {
    "collapsed": false
   },
   "outputs": [
    {
     "data": {
      "text/plain": [
       "array([5, 4, 3, 2, 1], dtype=int32)"
      ]
     },
     "execution_count": 96,
     "metadata": {},
     "output_type": "execute_result"
    }
   ],
   "source": [
    "# Each digit in the reverse order\n",
    "index_n(12345, bases=np.array([10,10,10,10,10]) )"
   ]
  },
  {
   "cell_type": "code",
   "execution_count": 97,
   "metadata": {
    "collapsed": false
   },
   "outputs": [
    {
     "name": "stdout",
     "output_type": "stream",
     "text": [
      "[0 0 0]\n",
      "[1 0 0]\n",
      "[2 0 0]\n",
      "[3 0 0]\n",
      "[0 1 0]\n",
      "[1 1 0]\n",
      "[2 1 0]\n",
      "[3 1 0]\n",
      "[0 2 0]\n",
      "[1 2 0]\n",
      "[2 2 0]\n",
      "[3 2 0]\n",
      "[0 0 1]\n",
      "[1 0 1]\n",
      "[2 0 1]\n",
      "[3 0 1]\n",
      "[0 1 1]\n",
      "[1 1 1]\n",
      "[2 1 1]\n",
      "[3 1 1]\n",
      "[0 2 1]\n",
      "[1 2 1]\n",
      "[2 2 1]\n"
     ]
    }
   ],
   "source": [
    "for ind in range(4*3*2-1):\n",
    "    print( index_n(ind, bases=np.array([4,3,2])) )"
   ]
  },
  {
   "cell_type": "code",
   "execution_count": 111,
   "metadata": {
    "collapsed": false
   },
   "outputs": [],
   "source": [
    "ghq_sizes = np.array([4,3,2])\n",
    "ghq_dim = ghq_sizes.size\n",
    "\n",
    "z_list = []\n",
    "w_list = []\n",
    "\n",
    "for size in ghq_sizes:\n",
    "    z, w = nppoly.hermite_e.hermegauss(deg=size)\n",
    "    w = w / np.sqrt(2.0*np.pi)\n",
    "    z_list.append( z )\n",
    "    w_list.append( w )"
   ]
  },
  {
   "cell_type": "code",
   "execution_count": null,
   "metadata": {
    "collapsed": false
   },
   "outputs": [],
   "source": []
  },
  {
   "cell_type": "code",
   "execution_count": 113,
   "metadata": {
    "collapsed": false
   },
   "outputs": [
    {
     "name": "stdout",
     "output_type": "stream",
     "text": [
      "[0 0 0] [-2.33441422 -1.73205081 -1.        ] 0.00382298789734\n",
      "[1 0 0] [-0.74196378 -1.73205081 -1.        ] 0.0378436787693\n",
      "[2 0 0] [ 0.74196378 -1.73205081 -1.        ] 0.0378436787693\n",
      "[3 0 0] [ 2.33441422 -1.73205081 -1.        ] 0.00382298789734\n",
      "[0 1 0] [-2.33441422  0.         -1.        ] 0.0152919515894\n",
      "[1 1 0] [-0.74196378  0.         -1.        ] 0.151374715077\n",
      "[2 1 0] [ 0.74196378  0.         -1.        ] 0.151374715077\n",
      "[3 1 0] [ 2.33441422  0.         -1.        ] 0.0152919515894\n",
      "[0 2 0] [-2.33441422  1.73205081 -1.        ] 0.00382298789734\n",
      "[1 2 0] [-0.74196378  1.73205081 -1.        ] 0.0378436787693\n",
      "[2 2 0] [ 0.74196378  1.73205081 -1.        ] 0.0378436787693\n",
      "[3 2 0] [ 2.33441422  1.73205081 -1.        ] 0.00382298789734\n",
      "[0 0 1] [-2.33441422 -1.73205081  1.        ] 0.00382298789734\n",
      "[1 0 1] [-0.74196378 -1.73205081  1.        ] 0.0378436787693\n",
      "[2 0 1] [ 0.74196378 -1.73205081  1.        ] 0.0378436787693\n",
      "[3 0 1] [ 2.33441422 -1.73205081  1.        ] 0.00382298789734\n",
      "[0 1 1] [-2.33441422  0.          1.        ] 0.0152919515894\n",
      "[1 1 1] [-0.74196378  0.          1.        ] 0.151374715077\n",
      "[2 1 1] [ 0.74196378  0.          1.        ] 0.151374715077\n",
      "[3 1 1] [ 2.33441422  0.          1.        ] 0.0152919515894\n",
      "[0 2 1] [-2.33441422  1.73205081  1.        ] 0.00382298789734\n",
      "[1 2 1] [-0.74196378  1.73205081  1.        ] 0.0378436787693\n",
      "[2 2 1] [ 0.74196378  1.73205081  1.        ] 0.0378436787693\n",
      "[3 2 1] [ 2.33441422  1.73205081  1.        ] 0.00382298789734\n",
      "1.0\n"
     ]
    }
   ],
   "source": [
    "weight_sum = 0.0\n",
    "\n",
    "for ind in range(np.prod(ghq_sizes)):\n",
    "    ind_n = index_n(ind, bases=ghq_sizes)\n",
    "    z_vec = np.array( list(map(lambda ind_k:z_list[ind_k[0]][ind_k[1]], zip(range(ghq_dim),ind_n))) )\n",
    "    weight = np.prod( np.array( list(map(lambda ind_k:w_list[ind_k[0]][ind_k[1]], zip(range(ghq_dim),ind_n))) ) )\n",
    "    weight_sum += weight\n",
    "    print( ind_n, z_vec, weight )\n",
    "\n",
    "print( weight_sum )"
   ]
  },
  {
   "cell_type": "code",
   "execution_count": 21,
   "metadata": {
    "collapsed": false
   },
   "outputs": [],
   "source": []
  },
  {
   "cell_type": "code",
   "execution_count": null,
   "metadata": {
    "collapsed": false
   },
   "outputs": [],
   "source": []
  },
  {
   "cell_type": "code",
   "execution_count": null,
   "metadata": {
    "collapsed": false
   },
   "outputs": [],
   "source": []
  },
  {
   "cell_type": "code",
   "execution_count": null,
   "metadata": {
    "collapsed": false
   },
   "outputs": [],
   "source": []
  },
  {
   "cell_type": "code",
   "execution_count": null,
   "metadata": {
    "collapsed": false
   },
   "outputs": [],
   "source": []
  },
  {
   "cell_type": "code",
   "execution_count": null,
   "metadata": {
    "collapsed": true
   },
   "outputs": [],
   "source": []
  }
 ],
 "metadata": {
  "kernelspec": {
   "display_name": "Python [default]",
   "language": "python",
   "name": "python3"
  },
  "language_info": {
   "codemirror_mode": {
    "name": "ipython",
    "version": 3
   },
   "file_extension": ".py",
   "mimetype": "text/x-python",
   "name": "python",
   "nbconvert_exporter": "python",
   "pygments_lexer": "ipython3",
   "version": "3.5.2"
  }
 },
 "nbformat": 4,
 "nbformat_minor": 1
}
