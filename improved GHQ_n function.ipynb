{
 "cells": [
  {
   "cell_type": "code",
   "execution_count": null,
   "metadata": {
    "collapsed": true
   },
   "outputs": [],
   "source": [
    "import numpy as np\n",
    "import numpy.polynomial as nppoly\n",
    "import scipy.stats as ss"
   ]
  },
  {
   "cell_type": "code",
   "execution_count": null,
   "metadata": {
    "collapsed": true
   },
   "outputs": [],
   "source": [
    "def GHQ_n(func, n = 3, deg = vector_of_degree):\n",
    "    x, w = nppoly.hermite_e.hermegauss(deg=deg)\n",
    "    w = w / np.sqrt(2.0*np.pi)\n",
    "    weight_points = []\n",
    "    CumProduct = np.cumprod(deg)[n-1]\n",
    "    for i in range(CumProduct):\n",
    "        index = []\n",
    "        points = []\n",
    "        weights = []\n",
    "    \n",
    "        for j in range(n):\n",
    "            remain = i%deg[j-1]\n",
    "            exa_divi = i//deg[j-1]\n",
    "            index.append(remain)\n",
    "\n",
    "        for k in range(n):\n",
    "            points.append(x[index[k]])\n",
    "            weights.append(w[index[k]])\n",
    "\n",
    "        weight_points.append(func(points)*np.cumproduct(weights)[n-1])\n",
    "    \n",
    "    return sum(weight_points)"
   ]
  },
  {
   "cell_type": "code",
   "execution_count": null,
   "metadata": {
    "collapsed": true
   },
   "outputs": [],
   "source": []
  }
 ],
 "metadata": {
  "kernelspec": {
   "display_name": "Python 3",
   "language": "python",
   "name": "python3"
  },
  "language_info": {
   "codemirror_mode": {
    "name": "ipython",
    "version": 3
   },
   "file_extension": ".py",
   "mimetype": "text/x-python",
   "name": "python",
   "nbconvert_exporter": "python",
   "pygments_lexer": "ipython3",
   "version": "3.6.1"
  }
 },
 "nbformat": 4,
 "nbformat_minor": 2
}
